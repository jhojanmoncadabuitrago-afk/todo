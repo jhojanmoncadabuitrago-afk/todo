{
  "nbformat": 4,
  "nbformat_minor": 0,
  "metadata": {
    "colab": {
      "provenance": []
    },
    "kernelspec": {
      "name": "python3",
      "display_name": "Python 3"
    },
    "language_info": {
      "name": "python"
    }
  },
  "cells": [
    {
      "cell_type": "code",
      "execution_count": 1,
      "metadata": {
        "colab": {
          "base_uri": "https://localhost:8080/"
        },
        "id": "i9Cbsw0CnBXm",
        "outputId": "48494191-5615-4a36-8c7f-3282169f121f"
      },
      "outputs": [
        {
          "output_type": "stream",
          "name": "stdout",
          "text": [
            "{'Nombre': 'jhojan', 'Edad': 18, 'Documento': 1034286461}\n"
          ]
        }
      ],
      "source": [
        "d1 = {\n",
        "    \"Nombre\": \"jhojan\",\n",
        "    \"Edad\": 18,\n",
        "    \"Documento\": 1034286461\n",
        "}\n",
        "\n",
        "print(d1)\n"
      ]
    },
    {
      "cell_type": "code",
      "source": [
        "\n",
        "d2 = dict([\n",
        "    (\"Nombre\", \"JHOJAN\"),\n",
        "    (\"Edad\", 18),\n",
        "    (\"Documento\", 1034296461)\n",
        "])\n",
        "\n",
        "print(d2)\n",
        "\n"
      ],
      "metadata": {
        "colab": {
          "base_uri": "https://localhost:8080/"
        },
        "id": "-VXxJZWfnihm",
        "outputId": "fd8e478d-5368-4341-ec2b-6f1565cbbd06"
      },
      "execution_count": 3,
      "outputs": [
        {
          "output_type": "stream",
          "name": "stdout",
          "text": [
            "{'Nombre': 'JHOJAN', 'Edad': 18, 'Documento': 1034296461}\n"
          ]
        }
      ]
    },
    {
      "cell_type": "code",
      "source": [
        "\n",
        "\n",
        "d3 = dict(Nombre='Sara', Edad=27, Documento=1003882)\n",
        "\n",
        "print(d3)\n",
        "\n",
        "\n",
        "\n",
        "\n",
        "\n"
      ],
      "metadata": {
        "colab": {
          "base_uri": "https://localhost:8080/"
        },
        "id": "WBwEiWViobVG",
        "outputId": "a0b958ec-a88e-4b0d-a50c-632b9fe64c0e"
      },
      "execution_count": 7,
      "outputs": [
        {
          "output_type": "stream",
          "name": "stdout",
          "text": [
            "{'Nombre': 'Sara', 'Edad': 27, 'Documento': 1003882}\n"
          ]
        }
      ]
    },
    {
      "cell_type": "code",
      "source": [
        "d1['Direccion'] = \"Calle 123\"\n",
        "print(d1)\n",
        "\n"
      ],
      "metadata": {
        "colab": {
          "base_uri": "https://localhost:8080/"
        },
        "id": "eHIxFkLzrAW3",
        "outputId": "2272cd3e-b135-48dc-de05-394c7db6a8af"
      },
      "execution_count": 8,
      "outputs": [
        {
          "output_type": "stream",
          "name": "stdout",
          "text": [
            "{'Nombre': 'jhojan', 'Edad': 18, 'Documento': 1034286461, 'Direccion': 'Calle 123'}\n"
          ]
        }
      ]
    },
    {
      "cell_type": "code",
      "source": [
        "# Imprime los key del diccionario\n",
        "for x in d1:\n",
        "    print(x)\n"
      ],
      "metadata": {
        "colab": {
          "base_uri": "https://localhost:8080/"
        },
        "id": "J3zTsOnLr5k2",
        "outputId": "733a2037-2b4e-4a5e-f4c4-3216abbe4927"
      },
      "execution_count": 13,
      "outputs": [
        {
          "output_type": "stream",
          "name": "stdout",
          "text": [
            "Nombre\n",
            "Edad\n",
            "Documento\n",
            "Direccion\n"
          ]
        }
      ]
    },
    {
      "cell_type": "code",
      "source": [
        "\n",
        "for x in d1:\n",
        "    print(d1[x])"
      ],
      "metadata": {
        "colab": {
          "base_uri": "https://localhost:8080/"
        },
        "id": "YtARSOdhseX9",
        "outputId": "f06b0276-b763-482f-b9ee-deafb2874bae"
      },
      "execution_count": 14,
      "outputs": [
        {
          "output_type": "stream",
          "name": "stdout",
          "text": [
            "jhojan\n",
            "18\n",
            "1034286461\n",
            "Calle 123\n"
          ]
        }
      ]
    },
    {
      "cell_type": "code",
      "source": [
        "for x, y in d1.items():\n",
        "  print (x, y)"
      ],
      "metadata": {
        "colab": {
          "base_uri": "https://localhost:8080/"
        },
        "id": "EkQIhUOBtMWO",
        "outputId": "5cac1b2e-e150-4b27-c99a-92b8574749d1"
      },
      "execution_count": 18,
      "outputs": [
        {
          "output_type": "stream",
          "name": "stdout",
          "text": [
            "Nombre jhojan\n",
            "Edad 18\n",
            "Documento 1034286461\n",
            "Direccion Calle 123\n"
          ]
        }
      ]
    },
    {
      "cell_type": "code",
      "source": [
        "# Diccionario anidado\n",
        "anidado1 = {\"a\": 1, \"b\": 2}\n",
        "anidado2 = {\"a\": 10, \"b\": 20}\n",
        "\n",
        "d = {\n",
        "    \"anidado1\": anidado1,\n",
        "    \"anidado2\": anidado2\n",
        "}\n",
        "\n",
        "print(d)\n",
        "\n",
        "print(d[\"anidado1\"][\"a\"])\n",
        "print(d[\"anidado2\"][\"b\"])\n"
      ],
      "metadata": {
        "colab": {
          "base_uri": "https://localhost:8080/"
        },
        "id": "CEnMXoPyuZyO",
        "outputId": "cffa55f1-ad45-4d17-9bf0-236a47d5f2fb"
      },
      "execution_count": 19,
      "outputs": [
        {
          "output_type": "stream",
          "name": "stdout",
          "text": [
            "{'anidado1': {'a': 1, 'b': 2}, 'anidado2': {'a': 10, 'b': 20}}\n",
            "1\n",
            "20\n"
          ]
        }
      ]
    },
    {
      "cell_type": "code",
      "source": [
        "# Diccionario\n",
        "d = {'a': 1, 'b': 2}\n",
        "d.clear()\n",
        "print(d)   # {}\n"
      ],
      "metadata": {
        "colab": {
          "base_uri": "https://localhost:8080/"
        },
        "id": "0A3udq1-wKbY",
        "outputId": "8eb54137-91fc-4d9e-f3eb-d4df263578f4"
      },
      "execution_count": 20,
      "outputs": [
        {
          "output_type": "stream",
          "name": "stdout",
          "text": [
            "{}\n"
          ]
        }
      ]
    },
    {
      "cell_type": "code",
      "source": [
        "d = {'a': 1, 'b': 2}\n",
        "print(d.get('a'))  # #1\n",
        "print(d.get('z', 'No encontrado'))  # #No encontrado"
      ],
      "metadata": {
        "colab": {
          "base_uri": "https://localhost:8080/"
        },
        "id": "lVmcFEOOw5nV",
        "outputId": "02711872-4bef-479d-9635-d824cc7bafd6"
      },
      "execution_count": 21,
      "outputs": [
        {
          "output_type": "stream",
          "name": "stdout",
          "text": [
            "1\n",
            "No encontrado\n"
          ]
        }
      ]
    },
    {
      "cell_type": "code",
      "source": [
        "d = {'a': 1, 'b': 2}\n",
        "it = d.items()\n",
        "\n",
        "print(it)              # dict_items([('a', 1), ('b', 2)])\n",
        "print(list(it))        # [('a', 1), ('b', 2)]\n",
        "print(list(it)[0][0])  # a"
      ],
      "metadata": {
        "colab": {
          "base_uri": "https://localhost:8080/"
        },
        "id": "SmAcXzZuxbYW",
        "outputId": "8294339d-0b31-47c4-c2be-459591905111"
      },
      "execution_count": 22,
      "outputs": [
        {
          "output_type": "stream",
          "name": "stdout",
          "text": [
            "dict_items([('a', 1), ('b', 2)])\n",
            "[('a', 1), ('b', 2)]\n",
            "a\n"
          ]
        }
      ]
    },
    {
      "cell_type": "code",
      "source": [
        "d = {'a': 1, 'b': 2}\n",
        "d.pop('c', -1)\n",
        "print(d)  # {'a': 1, 'b': 2}"
      ],
      "metadata": {
        "id": "njrRPT4kyVr2"
      },
      "execution_count": null,
      "outputs": []
    },
    {
      "cell_type": "code",
      "source": [
        "\n",
        "\n",
        "d1 = {'a': 1, 'b': 2}\n",
        "d2 = {'a': 0, 'd': 400}\n",
        "d1.update(d2)\n",
        "print(d1)  # {'a': 0, 'b': 2, 'd': 400}"
      ],
      "metadata": {
        "id": "GxyfEvri0a5o"
      },
      "execution_count": null,
      "outputs": []
    }
  ]
}