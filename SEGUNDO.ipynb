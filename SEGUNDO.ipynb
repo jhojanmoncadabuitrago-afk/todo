{
  "nbformat": 4,
  "nbformat_minor": 0,
  "metadata": {
    "colab": {
      "provenance": []
    },
    "kernelspec": {
      "name": "python3",
      "display_name": "Python 3"
    },
    "language_info": {
      "name": "python"
    }
  },
  "cells": [
    {
      "cell_type": "code",
      "execution_count": 4,
      "metadata": {
        "colab": {
          "base_uri": "https://localhost:8080/"
        },
        "id": "orWBPkyp7wSj",
        "outputId": "f93b740f-565a-4f72-b0da-02ebec875549"
      },
      "outputs": [
        {
          "output_type": "stream",
          "name": "stdout",
          "text": [
            "Nombre: JHPOJAN\n",
            "CC: KAKKA\n",
            "Dirección: KALKAAL\n",
            "Nombre: LALALLA\n",
            "CC: LSSLKKS\n",
            "Dirección: LSSSSK\n",
            "Nombre: SLSLLSS\n",
            "CC: LSKLSS\n",
            "Dirección: SKSKSKS\n",
            "['JHPOJAN', 'LALALLA', 'SLSLLSS']\n",
            "['KAKKA', 'LSSLKKS', 'LSKLSS']\n",
            "['KALKAAL', 'LSSSSK', 'SKSKSKS']\n"
          ]
        }
      ],
      "source": [
        "n = 3\n",
        "\n",
        "nombres = []\n",
        "ccs = []\n",
        "direcciones = []\n",
        "\n",
        "for i in range(n):\n",
        "    nombre = input(\"Nombre: \")\n",
        "    cc = input(\"CC: \")\n",
        "    direccion = input(\"Dirección: \")\n",
        "\n",
        "    nombres.append(nombre)\n",
        "    ccs.append(cc)\n",
        "    direcciones.append(direccion)\n",
        "\n",
        "print(nombres)\n",
        "print(ccs)\n",
        "print(direcciones)\n",
        "SLS"
      ]
    },
    {
      "cell_type": "code",
      "source": [
        "\n",
        "import numpy as np\n",
        "\n",
        "nombres = [\"Juan\", \"Ana\", \"Carlos\", \"María\", \"Luis\"]\n",
        "frutas = [\"manzana\", \"banana\", \"naranja\", \"pera\", \"fresa\"]\n",
        "edades = [25, 30, 22, 28, 35]\n",
        "\n",
        "nombres_array = np.array(nombres)\n",
        "frutas_array = np.array(frutas)\n",
        "edades_array = np.array(edades)\n",
        "\n",
        "print(\"Array de nombres:\")\n",
        "print(nombres_array)\n",
        "\n",
        "print(\"Array de frutas:\")\n",
        "print(frutas_array)\n",
        "\n",
        "print(\"Array de edades:\")\n",
        "print(edades_array)\n"
      ],
      "metadata": {
        "colab": {
          "base_uri": "https://localhost:8080/"
        },
        "id": "7UcWs9xH9Su4",
        "outputId": "831d849c-29c9-4517-e1fb-a67e883f9eaa"
      },
      "execution_count": 5,
      "outputs": [
        {
          "output_type": "stream",
          "name": "stdout",
          "text": [
            "Array de nombres:\n",
            "['Juan' 'Ana' 'Carlos' 'María' 'Luis']\n",
            "Array de frutas:\n",
            "['manzana' 'banana' 'naranja' 'pera' 'fresa']\n",
            "Array de edades:\n",
            "[25 30 22 28 35]\n"
          ]
        }
      ]
    },
    {
      "cell_type": "code",
      "source": [
        "import numpy as np\n",
        "\n",
        "frutas = [\"manzana\", \"banana\", \"naranja\"]\n",
        "nombres = [\"Ana\", \"Luis\", \"Carlos\"]\n",
        "edades = [25, 30, 35]\n",
        "\n",
        "# Convertimos las listas en un array 2D vertical (cada lista es una columna)\n",
        "arr = np.array([frutas, nombres, edades])\n",
        "\n",
        "# Transponemos para que las listas queden como columnas (vertical)\n",
        "arr_vertical = arr.T\n",
        "\n",
        "print(\"Datos organizados verticalmente:\")\n",
        "print(arr_vertical)\n",
        "\n",
        "\n"
      ],
      "metadata": {
        "colab": {
          "base_uri": "https://localhost:8080/"
        },
        "id": "wMArzqx__Pfj",
        "outputId": "55c960af-60d6-4048-c7c4-68989b4756c4"
      },
      "execution_count": 8,
      "outputs": [
        {
          "output_type": "stream",
          "name": "stdout",
          "text": [
            "Datos organizados verticalmente:\n",
            "[['manzana' 'Ana' '25']\n",
            " ['banana' 'Luis' '30']\n",
            " ['naranja' 'Carlos' '35']]\n"
          ]
        }
      ]
    },
    {
      "cell_type": "code",
      "source": [
        "import numpy as np\n",
        "\n",
        "lst1 = [10, 20, 30, 40, 50]       # 5 términos\n",
        "lst2 = [1, 2, 3, 4, 5] # 5 términos\n",
        "\n",
        "vctr1 = np.array(lst1)\n",
        "vctr2 = np.array(lst2)\n",
        "\n",
        "print(\"Vector created from a list 1:\")\n",
        "print(vctr1)\n",
        "print(\"Vector created from a list 2:\")\n",
        "print(vctr2)\n",
        "\n",
        "vctr_add = vctr1 + vctr2[:len(vctr1)]\n",
        "print(\"Addition of two vectors:\")\n",
        "print(vctr_add)\n"
      ],
      "metadata": {
        "colab": {
          "base_uri": "https://localhost:8080/"
        },
        "id": "AmOgs7PAAUwM",
        "outputId": "2efd52dc-33d1-4972-a801-124b6fec3b0c"
      },
      "execution_count": 14,
      "outputs": [
        {
          "output_type": "stream",
          "name": "stdout",
          "text": [
            "Vector created from a list 1:\n",
            "[10 20 30 40 50]\n",
            "Vector created from a list 2:\n",
            "[1 2 3 4 5]\n",
            "Addition of two vectors:\n",
            "[11 22 33 44 55]\n"
          ]
        }
      ]
    },
    {
      "cell_type": "code",
      "source": [
        "import numpy as np\n",
        "\n",
        "lst1 = [10, 20, 30, 40, 50]       # 5 términos\n",
        "lst2 = [1, 2, 3, 4, 5]     # 7 términos\n",
        "\n",
        "vctr1 = np.array(lst1)\n",
        "vctr2 = np.array(lst2)\n",
        "\n",
        "print(\"Vector created from a list 1:\")\n",
        "print(vctr1)\n",
        "print(\"Vector created from a list 2:\")\n",
        "print(vctr2)\n",
        "\n",
        "vctr_sub = vctr1 - vctr2[:len(vctr1)]\n",
        "print(\"Subtraction of two vectors:\")\n",
        "print(vctr_sub)\n"
      ],
      "metadata": {
        "colab": {
          "base_uri": "https://localhost:8080/"
        },
        "id": "T9f1OzB9BeLq",
        "outputId": "e0474985-3695-4eee-fd02-79e9e7e23551"
      },
      "execution_count": 15,
      "outputs": [
        {
          "output_type": "stream",
          "name": "stdout",
          "text": [
            "Vector created from a list 1:\n",
            "[10 20 30 40 50]\n",
            "Vector created from a list 2:\n",
            "[1 2 3 4 5]\n",
            "Subtraction of two vectors:\n",
            "[ 9 18 27 36 45]\n"
          ]
        }
      ]
    },
    {
      "cell_type": "code",
      "source": [
        "import numpy as np\n",
        "\n",
        "lst1 = [10, 20, 30, 40, 50]\n",
        "lst2 = [1, 1, 1, 1, 1]\n",
        "\n",
        "vctr1 = np.array(lst1)\n",
        "vctr2 = np.array(lst2)\n",
        "\n",
        "print(\"Vector created from a list 1:\")\n",
        "print(vctr1)\n",
        "print(\"Vector created from a list 2:\")\n",
        "print(vctr2)\n",
        "\n",
        "vctr_dot = vctr1.dot(vctr2)\n",
        "print(\"Dot product of two vectors: \", vctr_dot)\n"
      ],
      "metadata": {
        "colab": {
          "base_uri": "https://localhost:8080/"
        },
        "id": "bnse10NuCum7",
        "outputId": "16fffa41-bbc5-47e0-9ffa-241a9a57bbd3"
      },
      "execution_count": 19,
      "outputs": [
        {
          "output_type": "stream",
          "name": "stdout",
          "text": [
            "Vector created from a list 1:\n",
            "[10 20 30 40 50]\n",
            "Vector created from a list 2:\n",
            "[1 1 1 1 1]\n",
            "Dot product of two vectors:  150\n"
          ]
        }
      ]
    },
    {
      "cell_type": "code",
      "source": [
        "import numpy as np\n",
        "\n",
        "lst1 = [10, 20, 30, 40, 50]\n",
        "lst2 = [2, 2, 2, 2, 2]\n",
        "\n",
        "vctr1 = np.array(lst1)\n",
        "vctr2 = np.array(lst2)\n",
        "\n",
        "print(\"Vector created from a list 1:\")\n",
        "print(vctr1)\n",
        "print(\"Vector created from a list 2:\")\n",
        "print(vctr2)\n",
        "\n",
        "vctr_dot = vctr1.dot(vctr2)\n",
        "print(\"Dot product of two vectors: \", vctr_dot)"
      ],
      "metadata": {
        "colab": {
          "base_uri": "https://localhost:8080/"
        },
        "id": "S6GKWW4DDA1e",
        "outputId": "4231dd35-8ce4-4c89-a29f-c81a856d7a9f"
      },
      "execution_count": 16,
      "outputs": [
        {
          "output_type": "stream",
          "name": "stdout",
          "text": [
            "Vector created from a list 1:\n",
            "[10 20 30 40 50]\n",
            "Vector created from a list 2:\n",
            "[2 2 2 2 2]\n",
            "Dot product of two vectors:  300\n"
          ]
        }
      ]
    }
  ]
}