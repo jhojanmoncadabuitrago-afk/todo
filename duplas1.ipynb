{
  "nbformat": 4,
  "nbformat_minor": 0,
  "metadata": {
    "colab": {
      "provenance": []
    },
    "kernelspec": {
      "name": "python3",
      "display_name": "Python 3"
    },
    "language_info": {
      "name": "python"
    }
  },
  "cells": [
    {
      "cell_type": "code",
      "execution_count": 2,
      "metadata": {
        "id": "4rX8E8x_xe2D"
      },
      "outputs": [],
      "source": [
        "mi_tupla = (1, 2, 3, \"hola\", True)\n"
      ]
    },
    {
      "cell_type": "code",
      "source": [
        "t = (1, 1, 2, 3, 3, 3)\n",
        "print(t)\n"
      ],
      "metadata": {
        "colab": {
          "base_uri": "https://localhost:8080/"
        },
        "id": "wTqRf61yyuVG",
        "outputId": "420d201b-273b-4ca1-d6d1-c280b499a1d5"
      },
      "execution_count": 3,
      "outputs": [
        {
          "output_type": "stream",
          "name": "stdout",
          "text": [
            "(1, 1, 2, 3, 3, 3)\n"
          ]
        }
      ]
    },
    {
      "cell_type": "code",
      "source": [
        "coordenadas = (40.7128, -74.0060)  # latitud y longitud (Nueva York)\n",
        "coordenadas[0] = 41.0  # Esto daría error porque es inmutable\n"
      ],
      "metadata": {
        "colab": {
          "base_uri": "https://localhost:8080/",
          "height": 158
        },
        "id": "KAJ-yg0S1Eeu",
        "outputId": "21462c3c-1baa-446d-85f5-dfcc8ca75589"
      },
      "execution_count": 4,
      "outputs": [
        {
          "output_type": "error",
          "ename": "TypeError",
          "evalue": "'tuple' object does not support item assignment",
          "traceback": [
            "\u001b[0;31m---------------------------------------------------------------------------\u001b[0m",
            "\u001b[0;31mTypeError\u001b[0m                                 Traceback (most recent call last)",
            "\u001b[0;32m/tmp/ipython-input-1812130929.py\u001b[0m in \u001b[0;36m<cell line: 0>\u001b[0;34m()\u001b[0m\n\u001b[1;32m      1\u001b[0m \u001b[0mcoordenadas\u001b[0m \u001b[0;34m=\u001b[0m \u001b[0;34m(\u001b[0m\u001b[0;36m40.7128\u001b[0m\u001b[0;34m,\u001b[0m \u001b[0;34m-\u001b[0m\u001b[0;36m74.0060\u001b[0m\u001b[0;34m)\u001b[0m  \u001b[0;31m# latitud y longitud (Nueva York)\u001b[0m\u001b[0;34m\u001b[0m\u001b[0;34m\u001b[0m\u001b[0m\n\u001b[0;32m----> 2\u001b[0;31m \u001b[0mcoordenadas\u001b[0m\u001b[0;34m[\u001b[0m\u001b[0;36m0\u001b[0m\u001b[0;34m]\u001b[0m \u001b[0;34m=\u001b[0m \u001b[0;36m41.0\u001b[0m  \u001b[0;31m# Esto daría error porque es inmutable\u001b[0m\u001b[0;34m\u001b[0m\u001b[0;34m\u001b[0m\u001b[0m\n\u001b[0m",
            "\u001b[0;31mTypeError\u001b[0m: 'tuple' object does not support item assignment"
          ]
        }
      ]
    },
    {
      "cell_type": "code",
      "source": [
        "tupla1 = (1, 2, 3)              # Tupla con enteros\n",
        "tupla2 = (\"a\", \"b\", \"c\")        # Tupla con cadenas de texto\n",
        "tupla3 = (1, \"hola\", 3.5)       # Tupla con tipos mixtos\n",
        "tupla4 = ()                     # Tupla vacía\n",
        "tupla5 = (5,)                   # Tupla con un solo elemento\n"
      ],
      "metadata": {
        "id": "Ca1utPHM1LGU"
      },
      "execution_count": null,
      "outputs": []
    },
    {
      "cell_type": "code",
      "source": [
        " tupla = (\"Python\", 2025, True)\n",
        "print(tupla[0])\n",
        "print(tupla[1])\n",
        "print(tupla[-1])\n"
      ],
      "metadata": {
        "colab": {
          "base_uri": "https://localhost:8080/"
        },
        "id": "U0LDj2rg2Sx8",
        "outputId": "f103588d-15f0-49ff-bf9d-4c39113c43d8"
      },
      "execution_count": 6,
      "outputs": [
        {
          "output_type": "stream",
          "name": "stdout",
          "text": [
            "Python\n",
            "2025\n",
            "True\n"
          ]
        }
      ]
    },
    {
      "cell_type": "code",
      "source": [
        "colores = (\"rojo\", \"verde\", \"azul\")\n",
        "for color in colores:\n",
        "    print(color)\n"
      ],
      "metadata": {
        "colab": {
          "base_uri": "https://localhost:8080/"
        },
        "id": "BSdO6C2b3Dts",
        "outputId": "d8e2727f-8339-4428-8341-03c34d8fe7e9"
      },
      "execution_count": 7,
      "outputs": [
        {
          "output_type": "stream",
          "name": "stdout",
          "text": [
            "rojo\n",
            "verde\n",
            "azul\n"
          ]
        }
      ]
    },
    {
      "cell_type": "code",
      "source": [
        "t = ((1, 2), (3, 4), (5, 6)) # duplas\n",
        "\n",
        "print(t[0])     # (1, 2)\n",
        "print(t[1])     # (3, 4)\n",
        "print(t[2])     # (5, 6)\n",
        "\n",
        "\n"
      ],
      "metadata": {
        "colab": {
          "base_uri": "https://localhost:8080/"
        },
        "id": "-ALnhNLL4KDt",
        "outputId": "74ce3aad-5c5b-495a-9e4b-d906876677b0"
      },
      "execution_count": 8,
      "outputs": [
        {
          "output_type": "stream",
          "name": "stdout",
          "text": [
            "(1, 2)\n",
            "(3, 4)\n",
            "(5, 6)\n"
          ]
        }
      ]
    },
    {
      "cell_type": "code",
      "source": [
        "t = (\"santafe\",) * 3\n",
        "print(t)\n"
      ],
      "metadata": {
        "colab": {
          "base_uri": "https://localhost:8080/"
        },
        "id": "HyNHktYa510U",
        "outputId": "6cf50c4d-00f9-48e8-96d2-fa03fb515111"
      },
      "execution_count": 9,
      "outputs": [
        {
          "output_type": "stream",
          "name": "stdout",
          "text": [
            "('Python', 'Python', 'Python')\n"
          ]
        }
      ]
    },
    {
      "cell_type": "code",
      "source": [
        "persona = (\"jhojan\", 18, \"Colombia\")\n",
        "\n",
        "nombre, edad, pais = persona\n",
        "\n",
        "print(nombre)  # jhojan\n",
        "print(edad)    # 18\n",
        "print(pais)    # Colombia\n"
      ],
      "metadata": {
        "colab": {
          "base_uri": "https://localhost:8080/"
        },
        "id": "upWtcWVu7O39",
        "outputId": "29aaf8be-615f-4b4e-a331-3476476cdf77"
      },
      "execution_count": 10,
      "outputs": [
        {
          "output_type": "stream",
          "name": "stdout",
          "text": [
            "jhojan\n",
            "18\n",
            "Colombia\n"
          ]
        }
      ]
    },
    {
      "cell_type": "code",
      "source": [
        "t = (5, 1, 7, 3)\n",
        "\n",
        "print(len(t))\n",
        "print(max(t))\n",
        "print(min(t))\n",
        "print(sum(t))\n",
        "print(sorted(t))\n"
      ],
      "metadata": {
        "id": "KH3HG6kX73eF"
      },
      "execution_count": null,
      "outputs": []
    },
    {
      "cell_type": "code",
      "source": [
        "coordenadas = {}\n",
        "\n",
        "punto = (10, 20)\n",
        "\n",
        "coordenadas[punto] = \"Ubicación A\"\n",
        "\n",
        "print(coordenadas)\n"
      ],
      "metadata": {
        "colab": {
          "base_uri": "https://localhost:8080/"
        },
        "id": "DnkHGirM9PE3",
        "outputId": "c33aa21b-51d9-4b38-c642-e6306fd127ff"
      },
      "execution_count": 11,
      "outputs": [
        {
          "output_type": "stream",
          "name": "stdout",
          "text": [
            "{(10, 20): 'Ubicación A'}\n"
          ]
        }
      ]
    }
  ]
}