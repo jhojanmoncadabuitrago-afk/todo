{
  "nbformat": 4,
  "nbformat_minor": 0,
  "metadata": {
    "colab": {
      "provenance": []
    },
    "kernelspec": {
      "name": "python3",
      "display_name": "Python 3"
    },
    "language_info": {
      "name": "python"
    }
  },
  "cells": [
    {
      "cell_type": "code",
      "source": [
        "# Creación de un set con la función set()\n",
        "s = set([5, 4, 6, 8, 8, 1])\n",
        "print(s)          # {1, 4, 5, 6, 8}\n",
        "print(type(s))    # <class 'set'>\n",
        "\n",
        "\n"
      ],
      "metadata": {
        "colab": {
          "base_uri": "https://localhost:8080/"
        },
        "id": "tXgOrgyMjo1m",
        "outputId": "5223eb95-cfb2-4471-85ca-c69417e517db"
      },
      "execution_count": 1,
      "outputs": [
        {
          "output_type": "stream",
          "name": "stdout",
          "text": [
            "{1, 4, 5, 6, 8}\n",
            "<class 'set'>\n"
          ]
        }
      ]
    },
    {
      "cell_type": "code",
      "source": [
        "# Los sets no permiten acceder ni modificar elementos por índice\n",
        "s = set([5, 6, 7, 8])\n",
        "try:\n",
        "    s[0] = 3\n",
        "except TypeError as e:\n",
        "    print(\"Error:\", e)\n",
        "\n"
      ],
      "metadata": {
        "colab": {
          "base_uri": "https://localhost:8080/"
        },
        "id": "2VrkmYh8kU1Y",
        "outputId": "721dadf7-998d-4169-9254-8b06e2aae4bb"
      },
      "execution_count": 2,
      "outputs": [
        {
          "output_type": "stream",
          "name": "stdout",
          "text": [
            "Error: 'set' object does not support item assignment\n"
          ]
        }
      ]
    },
    {
      "cell_type": "code",
      "source": [
        "# Lista normal\n",
        "lista = [\"Perú\", \"Argentina\"]\n",
        "\n",
        "try:\n",
        "    s = set([\"México\", \"España\", lista])\n",
        "except TypeError as e:\n",
        "    print(\"Error:\", e)\n",
        "\n"
      ],
      "metadata": {
        "colab": {
          "base_uri": "https://localhost:8080/"
        },
        "id": "1jl8AjuekkvN",
        "outputId": "a07b0a22-4071-4691-d71c-17e48f99198d"
      },
      "execution_count": 13,
      "outputs": [
        {
          "output_type": "stream",
          "name": "stdout",
          "text": [
            "Error: unhashable type: 'list'\n"
          ]
        }
      ]
    },
    {
      "cell_type": "code",
      "source": [
        "# lista de países\n",
        "paises = [\"México\", \"España\"]\n",
        "paises.append(\"Perú\")\n",
        "paises.append(\"Argentina\")\n",
        "\n",
        "print(paises)\n",
        "# Output: ['México', 'España', 'Perú', 'Argentina']\n"
      ],
      "metadata": {
        "colab": {
          "base_uri": "https://localhost:8080/"
        },
        "id": "lx6tC5k_lQ-3",
        "outputId": "45b27c6d-0cd9-4c6f-ec1d-9855521c71f3"
      },
      "execution_count": 5,
      "outputs": [
        {
          "output_type": "stream",
          "name": "stdout",
          "text": [
            "['México', 'España', 'Perú', 'Argentina']\n"
          ]
        }
      ]
    },
    {
      "cell_type": "code",
      "source": [
        " s = set([1,2,3,4])\n",
        " print(len(s)) #4"
      ],
      "metadata": {
        "colab": {
          "base_uri": "https://localhost:8080/"
        },
        "id": "F0kswa0Tmq-Q",
        "outputId": "2fccf0c9-6981-4aa3-8bcc-5005ea785458"
      },
      "execution_count": 7,
      "outputs": [
        {
          "output_type": "stream",
          "name": "stdout",
          "text": [
            "4\n"
          ]
        }
      ]
    },
    {
      "cell_type": "code",
      "source": [
        "# Definición de conjuntos\n",
        "s1 = set([1, 2, 3])\n",
        "s2 = set([3, 4, 5])\n",
        "\n",
        "\n",
        "print( s1 | s2)   # {1, 2, 3, 4, 5}\n",
        "\n"
      ],
      "metadata": {
        "colab": {
          "base_uri": "https://localhost:8080/"
        },
        "id": "29eb3aEon0ZH",
        "outputId": "e2ad4951-7fca-4d86-99fd-9de56d5fcec8"
      },
      "execution_count": 9,
      "outputs": [
        {
          "output_type": "stream",
          "name": "stdout",
          "text": [
            "{1, 2, 3, 4, 5}\n"
          ]
        }
      ]
    },
    {
      "cell_type": "code",
      "source": [
        "# Creamos un set con varios elementos\n",
        "s = set([1, 2, 3, 4, 5])\n",
        "s.remove(3)\n",
        "\n",
        "print(s)  # {1, 2, 4, 5}\n"
      ],
      "metadata": {
        "colab": {
          "base_uri": "https://localhost:8080/"
        },
        "id": "xaq7Wf2jpOQX",
        "outputId": "91943587-8449-4c2e-b41d-532373b3ad26"
      },
      "execution_count": 10,
      "outputs": [
        {
          "output_type": "stream",
          "name": "stdout",
          "text": [
            "{1, 2, 4, 5}\n"
          ]
        }
      ]
    },
    {
      "cell_type": "code",
      "source": [
        "# Creamos un set\n",
        "s = set([1, 2])\n",
        "s.discard(3)\n",
        "\n",
        "print(s)  # {1, 2}\n",
        "\n"
      ],
      "metadata": {
        "colab": {
          "base_uri": "https://localhost:8080/"
        },
        "id": "lVx9VIy2pyw-",
        "outputId": "16a3ad07-2b24-48b8-bbed-6209cb3e7e47"
      },
      "execution_count": 14,
      "outputs": [
        {
          "output_type": "stream",
          "name": "stdout",
          "text": [
            "{1, 2}\n"
          ]
        }
      ]
    },
    {
      "cell_type": "code",
      "source": [
        "# Eliminar\n",
        "s = set([1, 2])\n",
        "\n",
        "\n",
        "s.clear()\n",
        "\n",
        "print(s)  # set()\n"
      ],
      "metadata": {
        "colab": {
          "base_uri": "https://localhost:8080/"
        },
        "id": "P5PMDoWdroPX",
        "outputId": "a5d8c2bb-0a74-4478-c78c-b16f4f229ca8"
      },
      "execution_count": 15,
      "outputs": [
        {
          "output_type": "stream",
          "name": "stdout",
          "text": [
            "set()\n"
          ]
        }
      ]
    },
    {
      "cell_type": "code",
      "source": [],
      "metadata": {
        "id": "Ln2r73PptD5f"
      },
      "execution_count": null,
      "outputs": []
    }
  ]
}